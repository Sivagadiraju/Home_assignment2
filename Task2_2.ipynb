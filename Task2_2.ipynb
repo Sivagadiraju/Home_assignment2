{
  "nbformat": 4,
  "nbformat_minor": 0,
  "metadata": {
    "colab": {
      "provenance": [],
      "authorship_tag": "ABX9TyOCo3i+vPmPP7mLwN41xBRV",
      "include_colab_link": true
    },
    "kernelspec": {
      "name": "python3",
      "display_name": "Python 3"
    },
    "language_info": {
      "name": "python"
    }
  },
  "cells": [
    {
      "cell_type": "markdown",
      "metadata": {
        "id": "view-in-github",
        "colab_type": "text"
      },
      "source": [
        "<a href=\"https://colab.research.google.com/github/Sivagadiraju/Home_assignment2/blob/main/Task2_2.ipynb\" target=\"_parent\"><img src=\"https://colab.research.google.com/assets/colab-badge.svg\" alt=\"Open In Colab\"/></a>"
      ]
    },
    {
      "cell_type": "code",
      "execution_count": 1,
      "metadata": {
        "colab": {
          "base_uri": "https://localhost:8080/"
        },
        "id": "eZSPGfn0v3G-",
        "outputId": "2b6d54ab-3af0-4dcd-ef45-e63b2ff0e870"
      },
      "outputs": [
        {
          "output_type": "stream",
          "name": "stdout",
          "text": [
            "Original Matrix:\n",
            "[[0.07135898 0.38298896 0.5232169  0.5550122 ]\n",
            " [0.2212409  0.6395183  0.32764468 0.26167914]\n",
            " [0.14892273 0.09214223 0.15259603 0.27979678]\n",
            " [0.11932886 0.27897426 0.23892717 0.77788323]]\n",
            "\n",
            "Max Pooled Matrix:\n",
            "[[0.6395183  0.5550122 ]\n",
            " [0.27897426 0.77788323]]\n",
            "\n",
            "Average Pooled Matrix:\n",
            "[[0.32877678 0.41688827]\n",
            " [0.15984201 0.3623008 ]]\n"
          ]
        }
      ],
      "source": [
        "import tensorflow as tf\n",
        "import numpy as np\n",
        "\n",
        "# Create a random 4x4 matrix as input\n",
        "input_matrix = np.random.rand(4, 4).astype(np.float32)\n",
        "print(\"Original Matrix:\")\n",
        "print(input_matrix)\n",
        "\n",
        "# Reshape the input matrix to match the expected input shape for TensorFlow (batch_size, height, width, channels)\n",
        "input_matrix = input_matrix.reshape(1, 4, 4, 1)  # Shape: (1, 4, 4, 1)\n",
        "\n",
        "# Apply 2x2 Max Pooling\n",
        "max_pool = tf.keras.layers.MaxPooling2D(pool_size=(2, 2), strides=(2, 2), padding='valid')\n",
        "max_pooled_matrix = max_pool(input_matrix).numpy().squeeze()\n",
        "print(\"\\nMax Pooled Matrix:\")\n",
        "print(max_pooled_matrix)\n",
        "\n",
        "# Apply 2x2 Average Pooling\n",
        "avg_pool = tf.keras.layers.AveragePooling2D(pool_size=(2, 2), strides=(2, 2), padding='valid')\n",
        "avg_pooled_matrix = avg_pool(input_matrix).numpy().squeeze()\n",
        "print(\"\\nAverage Pooled Matrix:\")\n",
        "print(avg_pooled_matrix)"
      ]
    }
  ]
}